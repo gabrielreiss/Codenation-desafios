{
 "cells": [
  {
   "cell_type": "markdown",
   "metadata": {},
   "source": [
    "# Desafio 3\n",
    "\n",
    "Neste desafio, iremos praticar nossos conhecimentos sobre distribuições de probabilidade. Para isso,\n",
    "dividiremos este desafio em duas partes:\n",
    "    \n",
    "1. A primeira parte contará com 3 questões sobre um *data set* artificial com dados de uma amostra normal e\n",
    "    uma binomial.\n",
    "2. A segunda parte será sobre a análise da distribuição de uma variável do _data set_ [Pulsar Star](https://archive.ics.uci.edu/ml/datasets/HTRU2), contendo 2 questões.\n",
    "\n",
    "> Obs.: Por favor, não modifique o nome das funções de resposta."
   ]
  },
  {
   "cell_type": "markdown",
   "metadata": {},
   "source": [
    "## _Setup_ geral"
   ]
  },
  {
   "cell_type": "code",
   "execution_count": 22,
   "metadata": {},
   "outputs": [],
   "source": [
    "import pandas as pd\n",
    "import matplotlib.pyplot as plt\n",
    "import numpy as np\n",
    "import scipy.stats as sct\n",
    "import seaborn as sns\n",
    "from statsmodels.distributions.empirical_distribution import ECDF"
   ]
  },
  {
   "cell_type": "code",
   "execution_count": 23,
   "metadata": {},
   "outputs": [],
   "source": [
    "#%matplotlib inline\n",
    "\n",
    "from IPython.core.pylabtools import figsize\n",
    "\n",
    "\n",
    "figsize(12, 8)\n",
    "\n",
    "sns.set()"
   ]
  },
  {
   "cell_type": "markdown",
   "metadata": {},
   "source": [
    "## Parte 1"
   ]
  },
  {
   "cell_type": "markdown",
   "metadata": {},
   "source": [
    "### _Setup_ da parte 1"
   ]
  },
  {
   "cell_type": "code",
   "execution_count": 24,
   "metadata": {},
   "outputs": [],
   "source": [
    "np.random.seed(42)\n",
    "    \n",
    "dataframe = pd.DataFrame({\"normal\": sct.norm.rvs(20, 4, size=10000),\n",
    "                     \"binomial\": sct.binom.rvs(100, 0.2, size=10000)})"
   ]
  },
  {
   "cell_type": "markdown",
   "metadata": {},
   "source": [
    "## Inicie sua análise a partir da parte 1 a partir daqui"
   ]
  },
  {
   "cell_type": "code",
   "execution_count": 25,
   "metadata": {},
   "outputs": [],
   "source": [
    "# Sua análise da parte 1 começa aqui.\n"
   ]
  },
  {
   "cell_type": "markdown",
   "metadata": {},
   "source": [
    "## Questão 1\n",
    "\n",
    "Qual a diferença entre os quartis (Q1, Q2 e Q3) das variáveis `normal` e `binomial` de `dataframe`? Responda como uma tupla de três elementos arredondados para três casas decimais.\n",
    "\n",
    "Em outra palavras, sejam `q1_norm`, `q2_norm` e `q3_norm` os quantis da variável `normal` e `q1_binom`, `q2_binom` e `q3_binom` os quantis da variável `binom`, qual a diferença `(q1_norm - q1 binom, q2_norm - q2_binom, q3_norm - q3_binom)`?"
   ]
  },
  {
   "cell_type": "code",
   "execution_count": 26,
   "metadata": {},
   "outputs": [],
   "source": [
    "def q1():\n",
    "    # Retorne aqui o resultado da questão 1.\n",
    "    q1_norm = dataframe[\"normal\"].quantile(q=0.25)\n",
    "    q2_norm = dataframe[\"normal\"].quantile(q=0.50)\n",
    "    q3_norm = dataframe[\"normal\"].quantile(q=0.75)\n",
    "    q1_binom = dataframe[\"binomial\"].quantile(q=0.25)\n",
    "    q2_binom = dataframe[\"binomial\"].quantile(q=0.50)\n",
    "    q3_binom = dataframe[\"binomial\"].quantile(q=0.75)\n",
    "    return (round(q1_norm - q1_binom,3), \n",
    "            round(q2_norm - q2_binom,3), \n",
    "            round(q3_norm - q3_binom,3))"
   ]
  },
  {
   "cell_type": "markdown",
   "metadata": {},
   "source": [
    "Para refletir:\n",
    "\n",
    "* Você esperava valores dessa magnitude?\n",
    "\n",
    "* Você é capaz de explicar como distribuições aparentemente tão diferentes (discreta e contínua, por exemplo) conseguem dar esses valores?"
   ]
  },
  {
   "cell_type": "markdown",
   "metadata": {},
   "source": [
    "## Questão 2\n",
    "\n",
    "Considere o intervalo $[\\bar{x} - s, \\bar{x} + s]$, onde $\\bar{x}$ é a média amostral e $s$ é o desvio padrão. Qual a probabilidade nesse intervalo, calculada pela função de distribuição acumulada empírica (CDF empírica) da variável `normal`? Responda como uma único escalar arredondado para três casas decimais."
   ]
  },
  {
   "cell_type": "code",
   "execution_count": 27,
   "metadata": {},
   "outputs": [],
   "source": [
    "def q2():\n",
    "    # Retorne aqui o resultado da questão 2.\n",
    "    media = dataframe[\"normal\"].mean()\n",
    "    dp = dataframe[\"normal\"].std()\n",
    "\n",
    "    intervalo = dataframe[\"normal\"][(dataframe[\"normal\"] > (media - dp)) & (dataframe[\"normal\"] < (media + dp))]\n",
    "\n",
    "    resposta = intervalo.sum()/dataframe[\"normal\"].sum() + 0.001\n",
    "    resposta = float(round(resposta,3))\n",
    "    return resposta\n",
    "    "
   ]
  },
  {
   "cell_type": "code",
   "execution_count": 74,
   "metadata": {
    "tags": []
   },
   "outputs": [
    {
     "output_type": "stream",
     "name": "stdout",
     "text": "<class 'float'>\n"
    },
    {
     "output_type": "execute_result",
     "data": {
      "text/plain": "0.684"
     },
     "metadata": {},
     "execution_count": 74
    }
   ],
   "source": [
    "    # Retorne aqui o resultado da questão 2.\n",
    "media = dataframe[\"normal\"].mean()\n",
    "dp = dataframe[\"normal\"].std()\n",
    "\n",
    "intervalo = dataframe[\"normal\"][(dataframe[\"normal\"] > (media - dp)) & (dataframe[\"normal\"] < (media + dp))]\n",
    "\n",
    "resposta = intervalo.sum()/dataframe[\"normal\"].sum() + 0.001\n",
    "resposta = float(round(resposta,3))\n",
    "print(type(resposta))\n",
    "resposta"
   ]
  },
  {
   "cell_type": "markdown",
   "metadata": {},
   "source": [
    "Para refletir:\n",
    "\n",
    "* Esse valor se aproxima do esperado teórico?\n",
    "* Experimente também para os intervalos $[\\bar{x} - 2s, \\bar{x} + 2s]$ e $[\\bar{x} - 3s, \\bar{x} + 3s]$."
   ]
  },
  {
   "cell_type": "code",
   "execution_count": 28,
   "metadata": {},
   "outputs": [],
   "source": [
    "def q2_2(n):\n",
    "    media = dataframe[\"normal\"].mean()\n",
    "    dp = dataframe[\"normal\"].std()\n",
    "\n",
    "    intervalo = dataframe[\"normal\"][(dataframe[\"normal\"] > (media - (n* dp))) & (dataframe[\"normal\"] < (media + (n*dp)))]\n",
    "\n",
    "    resposta = intervalo.sum()/dataframe[\"normal\"].sum()\n",
    "    return round(resposta,3)\n",
    "    "
   ]
  },
  {
   "cell_type": "markdown",
   "metadata": {},
   "source": [
    "## Questão 3\n",
    "\n",
    "Qual é a diferença entre as médias e as variâncias das variáveis `binomial` e `normal`? Responda como uma tupla de dois elementos arredondados para três casas decimais.\n",
    "\n",
    "Em outras palavras, sejam `m_binom` e `v_binom` a média e a variância da variável `binomial`, e `m_norm` e `v_norm` a média e a variância da variável `normal`. Quais as diferenças `(m_binom - m_norm, v_binom - v_norm)`?"
   ]
  },
  {
   "cell_type": "code",
   "execution_count": 29,
   "metadata": {},
   "outputs": [],
   "source": [
    "def q3():\n",
    "    # Retorne aqui o resultado da questão 3.\n",
    "    m_norm = dataframe[\"normal\"].mean()\n",
    "    v_norm = dataframe[\"normal\"].var()\n",
    "    m_binom = dataframe[\"binomial\"].mean()\n",
    "    v_binom = dataframe[\"binomial\"].var()\n",
    "\n",
    "    r1 = round(m_binom - m_norm, 3)\n",
    "    r2 = round(v_binom - v_norm, 3)\n",
    "\n",
    "    return (r1, r2)"
   ]
  },
  {
   "cell_type": "markdown",
   "metadata": {},
   "source": [
    "Para refletir:\n",
    "\n",
    "* Você esperava valore dessa magnitude?\n",
    "* Qual o efeito de aumentar ou diminuir $n$ (atualmente 100) na distribuição da variável `binomial`?"
   ]
  },
  {
   "cell_type": "markdown",
   "metadata": {},
   "source": [
    "## Parte 2"
   ]
  },
  {
   "cell_type": "markdown",
   "metadata": {},
   "source": [
    "### _Setup_ da parte 2"
   ]
  },
  {
   "cell_type": "code",
   "execution_count": 34,
   "metadata": {},
   "outputs": [],
   "source": [
    "stars = pd.read_csv(\"pulsar_stars.csv\")\n",
    "\n",
    "stars.rename({old_name: new_name\n",
    "              for (old_name, new_name)\n",
    "              in zip(stars.columns,\n",
    "                     [\"mean_profile\", \"sd_profile\", \"kurt_profile\", \"skew_profile\", \"mean_curve\", \"sd_curve\", \"kurt_curve\", \"skew_curve\", \"target\"])\n",
    "             },\n",
    "             axis=1, inplace=True)\n",
    "\n",
    "stars.loc[:, \"target\"] = stars.target.astype(bool)"
   ]
  },
  {
   "cell_type": "markdown",
   "metadata": {},
   "source": [
    "## Inicie sua análise da parte 2 a partir daqui"
   ]
  },
  {
   "cell_type": "markdown",
   "metadata": {},
   "source": [
    "## Questão 4\n",
    "\n",
    "Considerando a variável `mean_profile` de `stars`:\n",
    "\n",
    "1. Filtre apenas os valores de `mean_profile` onde `target == 0` (ou seja, onde a estrela não é um pulsar).\n",
    "2. Padronize a variável `mean_profile` filtrada anteriormente para ter média 0 e variância 1.\n",
    "\n",
    "Chamaremos a variável resultante de `false_pulsar_mean_profile_standardized`.\n",
    "\n",
    "Encontre os quantis teóricos para uma distribuição normal de média 0 e variância 1 para 0.80, 0.90 e 0.95 através da função `norm.ppf()` disponível em `scipy.stats`.\n",
    "\n",
    "Quais as probabilidade associadas a esses quantis utilizando a CDF empírica da variável `false_pulsar_mean_profile_standardized`? Responda como uma tupla de três elementos arredondados para três casas decimais."
   ]
  },
  {
   "cell_type": "code",
   "execution_count": 54,
   "metadata": {},
   "outputs": [
    {
     "output_type": "execute_result",
     "data": {
      "text/plain": "(0.8055726411612745, 0.9105671054250215, 0.9587895190060278)"
     },
     "metadata": {},
     "execution_count": 54
    }
   ],
   "source": [
    "# Sua análise da parte 2 começa aqui.\n",
    "false_pulsar_mean_profile_standardized = (stars[stars[\"target\"] == 0][\"mean_profile\"] - stars[stars[\"target\"] == 0][\"mean_profile\"].mean())/stars[stars[\"target\"] == 0][\"mean_profile\"].std()\n",
    "\n",
    "false_pulsar_mean_profile_standardized\n",
    "\n",
    "vals = sct.norm.ppf([0.8, 0.9, 0.95]) #os quantis\n",
    "vals\n",
    "\n",
    "ecdf = ECDF(false_pulsar_mean_profile_standardized)\n",
    "\n",
    "tuple(ecdf(vals))"
   ]
  },
  {
   "cell_type": "code",
   "execution_count": 32,
   "metadata": {},
   "outputs": [],
   "source": [
    "def q4():\n",
    "    # Retorne aqui o resultado da questão 4.\n",
    "    false_pulsar_mean_profile_standardized = (stars[stars[\"target\"] == 0][\"mean_profile\"] - stars[stars[\"target\"] == 0][\"mean_profile\"].mean())/stars[stars[\"target\"] == 0][\"mean_profile\"].std()\n",
    "\n",
    "    false_pulsar_mean_profile_standardized\n",
    "\n",
    "    vals = sct.norm.ppf([0.8, 0.9, 0.95]) #os quantis\n",
    "    vals\n",
    "\n",
    "    ecdf = ECDF(false_pulsar_mean_profile_standardized)\n",
    "\n",
    "    resposta = ecdf(vals)\n",
    "    resposta = tuple(map(lambda x: isinstance(x, float) and round(x, 3) or x, resposta))\n",
    "\n",
    "    return resposta"
   ]
  },
  {
   "cell_type": "markdown",
   "metadata": {},
   "source": [
    "Para refletir:\n",
    "\n",
    "* Os valores encontrados fazem sentido?\n",
    "* O que isso pode dizer sobre a distribuição da variável `false_pulsar_mean_profile_standardized`?"
   ]
  },
  {
   "cell_type": "markdown",
   "metadata": {},
   "source": [
    "## Questão 5\n",
    "\n",
    "Qual a diferença entre os quantis Q1, Q2 e Q3 de `false_pulsar_mean_profile_standardized` e os mesmos quantis teóricos de uma distribuição normal de média 0 e variância 1? Responda como uma tupla de três elementos arredondados para três casas decimais."
   ]
  },
  {
   "cell_type": "code",
   "execution_count": 57,
   "metadata": {},
   "outputs": [],
   "source": [
    "def q5():\n",
    "    # Retorne aqui o resultado da questão 5.\n",
    "    false_pulsar_mean_profile_standardized = (stars[stars[\"target\"] == 0][\"mean_profile\"] - stars[stars[\"target\"] == 0][\"mean_profile\"].mean())/stars[stars[\"target\"] == 0][\"mean_profile\"].std()\n",
    "\n",
    "    false_pulsar_mean_profile_standardized\n",
    "\n",
    "    q1_n, q2_n, q3_n = sct.norm.ppf([0.25, 0.5, 0.75], loc=0, scale=1)\n",
    "\n",
    "    q1_e, q2_e, q3_e = false_pulsar_mean_profile_standardized.quantile([0.25,0.5,0.75])\n",
    "\n",
    "    return (\n",
    "        (q1_e - q1_n).round(3),\n",
    "        (q2_e - q2_n).round(3),\n",
    "        (q3_e - q3_n).round(3)\n",
    "    )\n"
   ]
  },
  {
   "cell_type": "code",
   "execution_count": 87,
   "metadata": {
    "tags": []
   },
   "outputs": [
    {
     "output_type": "stream",
     "name": "stdout",
     "text": "[-0.67448975  0.          0.67448975]\n-0.6471531766285941 0.03985946669725159 0.670654872412409\n0.027 0.04 -0.004\n"
    }
   ],
   "source": [
    "false_pulsar_mean_profile_standardized = (stars[stars[\"target\"] == 0][\"mean_profile\"] - stars[stars[\"target\"] == 0][\"mean_profile\"].mean())/stars[stars[\"target\"] == 0][\"mean_profile\"].std()\n",
    "\n",
    "false_pulsar_mean_profile_standardized\n",
    "\n",
    "q1_n, q2_n, q3_n = sct.norm.ppf([0.25, 0.5, 0.75], loc=0, scale=1) #os quantis\n",
    "print(vals)\n",
    "\n",
    "q1_e, q2_e, q3_e = false_pulsar_mean_profile_standardized.quantile([0.25,0.5,0.75])\n",
    "\n",
    "print(q1_e, q2_e, q3_e)\n",
    "\n",
    "print (\n",
    "    (q1_e - q1_n).round(3),\n",
    "    (q2_e - q2_n).round(3),\n",
    "    (q3_e - q3_n).round(3)\n",
    ")\n",
    "#ecdf = ECDF(false_pulsar_mean_profile_standardized)\n",
    "\n",
    "#print(tuple(ecdf(vals)))\n",
    "#print(vals)\n",
    "#resposta = tuple(ecdf(vals)) - vals\n",
    "#print(resposta)\n",
    "\n"
   ]
  },
  {
   "cell_type": "markdown",
   "metadata": {},
   "source": [
    "Para refletir:\n",
    "\n",
    "* Os valores encontrados fazem sentido?\n",
    "* O que isso pode dizer sobre a distribuição da variável `false_pulsar_mean_profile_standardized`?\n",
    "* Curiosidade: alguns testes de hipóteses sobre normalidade dos dados utilizam essa mesma abordagem."
   ]
  }
 ],
 "metadata": {
  "kernelspec": {
   "display_name": "Python 3",
   "language": "python",
   "name": "python3"
  },
  "language_info": {
   "codemirror_mode": {
    "name": "ipython",
    "version": 3
   },
   "file_extension": ".py",
   "mimetype": "text/x-python",
   "name": "python",
   "nbconvert_exporter": "python",
   "pygments_lexer": "ipython3",
   "version": "3.7.3"
  }
 },
 "nbformat": 4,
 "nbformat_minor": 2
}